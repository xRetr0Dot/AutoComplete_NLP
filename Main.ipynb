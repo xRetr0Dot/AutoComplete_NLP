{
 "cells": [
  {
   "cell_type": "code",
   "execution_count": 16,
   "metadata": {},
   "outputs": [],
   "source": [
    "from tkinter import *\n",
    "\n",
    "main = Tk()\n",
    "main.title('AutoComplete')\n",
    "main.geometry(\"500x500\")\n",
    "\n",
    "label = Label(main, text=\"Type Below\",\n",
    "    font=(\"Helveltica\", 15), fg=\"grey\")\n",
    "\n",
    "label.pack(pady=20)\n",
    "\n",
    "entry = Entry(main, font=(\"Helvetica\", 20))\n",
    "entry.pack()\n",
    "\n",
    "listbox = Listbox(main, width=50)\n",
    "listbox.pack(pady=40)\n",
    "\n",
    "main.mainloop()\n",
    "\n"
   ]
  }
 ],
 "metadata": {
  "kernelspec": {
   "display_name": "Python 3",
   "language": "python",
   "name": "python3"
  },
  "language_info": {
   "codemirror_mode": {
    "name": "ipython",
    "version": 3
   },
   "file_extension": ".py",
   "mimetype": "text/x-python",
   "name": "python",
   "nbconvert_exporter": "python",
   "pygments_lexer": "ipython3",
   "version": "3.9.4"
  },
  "orig_nbformat": 2
 },
 "nbformat": 4,
 "nbformat_minor": 2
}