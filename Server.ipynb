{
 "cells": [
  {
   "cell_type": "code",
   "execution_count": null,
   "metadata": {},
   "outputs": [],
   "source": [
    "import socket\n",
    "import threading\n",
    "\n",
    "HOST = '127.0.0.1'\n",
    "PORT = 9090\n",
    "\n",
    "server = socket.socket(socket.AF_INET, socket.SOCK_STREAM)\n",
    "server.listen\n",
    "\n",
    "clients_array = []\n",
    "nicks = []\n",
    "\n",
    "def handle(client):\n",
    "    while True:\n",
    "        try:\n",
    "            message = client.recv(1024)\n",
    "            print(f\"{nicks[clients_array.index(client)]}\")\n",
    "            broadcast(message)\n",
    "        except:\n",
    "            index = clients_array.index(client)\n",
    "            clients_array.remove(client)\n",
    "            client.close()\n",
    "            nickname = nicks[index]\n",
    "            nicks.remove(nickname)\n",
    "\n",
    "\n",
    "def broadcast(msg):\n",
    "    for client in clients_array:\n",
    "        client.send(msg)\n",
    "\n",
    "def receive():\n",
    "    while True:\n",
    "        client, address = server.accept()\n",
    "        print(f\"{str(address)} Connected!\")\n",
    "\n",
    "        client.send(\"NICK\".encode('utf-8'))\n",
    "        nickname = client.recv(1024)\n",
    "        nicks.append(nickname)\n",
    "        clients_array.append(client)\n",
    "\n",
    "        print(f\"{nickname} is the client\")\n",
    "        broadcast(f\"{nickname} is now connected!\\n\".encode('utf-8'))\n",
    "        client.send(\"Connected to server\".encode('utf-8'))\n",
    "        thread = threading.Thread(target=handle, args=(client,))\n",
    "        thread.start()\n",
    "\n",
    "print(\"Server running\")\n",
    "receive()\n"
   ]
  }
 ],
 "metadata": {
  "kernelspec": {
   "display_name": "Python 3",
   "language": "python",
   "name": "python3"
  },
  "language_info": {
   "name": "python",
   "version": ""
  },
  "orig_nbformat": 2
 },
 "nbformat": 4,
 "nbformat_minor": 2
}